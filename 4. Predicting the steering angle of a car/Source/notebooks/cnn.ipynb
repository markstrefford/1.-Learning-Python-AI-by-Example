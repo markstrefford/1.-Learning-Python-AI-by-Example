{
 "cells": [
  {
   "cell_type": "markdown",
   "metadata": {},
   "source": [
    "# CNN demo\n",
    "\n",
    "This notebook demos the approach for setting up and training the CNN"
   ]
  },
  {
   "cell_type": "code",
   "execution_count": 15,
   "metadata": {},
   "outputs": [
    {
     "name": "stdout",
     "output_type": "stream",
     "text": [
      "The autoreload extension is already loaded. To reload it, use:\n",
      "  %reload_ext autoreload\n"
     ]
    }
   ],
   "source": [
    "%load_ext autoreload\n",
    "%autoreload 2\n",
    "\n",
    "import sys\n",
    "sys.path.append('../')\n",
    "\n",
    "from model import model\n",
    "from data import generators"
   ]
  },
  {
   "cell_type": "markdown",
   "metadata": {},
   "source": [
    "* Set up image directories and other variables required"
   ]
  },
  {
   "cell_type": "code",
   "execution_count": 16,
   "metadata": {
    "collapsed": true
   },
   "outputs": [],
   "source": [
    "image_size = (256, 455)"
   ]
  },
  {
   "cell_type": "markdown",
   "metadata": {},
   "source": [
    "* Load the model"
   ]
  },
  {
   "cell_type": "code",
   "execution_count": 17,
   "metadata": {},
   "outputs": [],
   "source": [
    "cnn = model.cnn(output=True)"
   ]
  },
  {
   "cell_type": "markdown",
   "metadata": {},
   "source": [
    "* Create training, test and validation data sets"
   ]
  },
  {
   "cell_type": "code",
   "execution_count": 32,
   "metadata": {
    "collapsed": true
   },
   "outputs": [],
   "source": [
    "import pandas as pd"
   ]
  },
  {
   "cell_type": "code",
   "execution_count": 41,
   "metadata": {},
   "outputs": [],
   "source": [
    "# Read the data.txt file\n",
    "columns = ['image_name', 'angle', 'date', 'time']\n",
    "df = pd.read_csv('../data/data.txt', names=columns, delimiter=' ')\n",
    "\n",
    "# Split out train, validate and test samples in the dataset\n",
    "sample_idx={}\n",
    "num_samples = len(df)\n",
    "sample_idx['train'] = [i for i in range(0, num_samples, 2)]\n",
    "sample_idx['valid'] = [i for i in range(1, num_samples, 4)]\n",
    "sample_idx['test'] = [i for i in range(3, num_samples, 4)]"
   ]
  },
  {
   "cell_type": "code",
   "execution_count": 57,
   "metadata": {},
   "outputs": [
    {
     "name": "stdout",
     "output_type": "stream",
     "text": [
      "63824 63825\n"
     ]
    }
   ],
   "source": [
    "print(max(sample_idx['train']), len(df))"
   ]
  },
  {
   "cell_type": "markdown",
   "metadata": {},
   "source": [
    "* Create the data generator"
   ]
  },
  {
   "cell_type": "code",
   "execution_count": 83,
   "metadata": {},
   "outputs": [],
   "source": [
    "gen = generators.DataGenerator(df.loc[sample_idx['train']], data_dir='../data/data')"
   ]
  },
  {
   "cell_type": "code",
   "execution_count": 84,
   "metadata": {},
   "outputs": [
    {
     "data": {
      "text/plain": [
       "<data.generators.DataGenerator at 0x128c3c278>"
      ]
     },
     "execution_count": 84,
     "metadata": {},
     "output_type": "execute_result"
    }
   ],
   "source": [
    "gen"
   ]
  },
  {
   "cell_type": "markdown",
   "metadata": {},
   "source": [
    "* Train with a subset of data"
   ]
  },
  {
   "cell_type": "code",
   "execution_count": 85,
   "metadata": {
    "scrolled": false
   },
   "outputs": [
    {
     "name": "stdout",
     "output_type": "stream",
     "text": [
      "Epoch 1/1\n",
      "_data_generation(): data_len = 128\n",
      "batch_data:      index image_name  angle        date          time\n",
      "0    13056  13056.jpg  -6.55  2018-07-01  17:21:19:331\n",
      "1    13058  13058.jpg  -6.05  2018-07-01  17:21:19:434\n",
      "2    13060  13060.jpg  -6.05  2018-07-01  17:21:19:505\n",
      "3    13062  13062.jpg  -6.05  2018-07-01  17:21:19:594\n",
      "4    13064  13064.jpg  -6.05  2018-07-01  17:21:19:730\n",
      "5    13066  13066.jpg  -6.05  2018-07-01  17:21:19:860\n",
      "6    13068  13068.jpg  -6.05  2018-07-01  17:21:19:995\n",
      "7    13070  13070.jpg  -6.05  2018-07-01  17:21:20:126\n",
      "8    13072  13072.jpg  -6.05  2018-07-01  17:21:20:253\n",
      "9    13074  13074.jpg  -6.05  2018-07-01  17:21:20:360\n",
      "10   13076  13076.jpg  -6.05  2018-07-01  17:21:20:483\n",
      "11   13078  13078.jpg  -5.65  2018-07-01  17:21:20:623\n",
      "12   13080  13080.jpg  -5.75  2018-07-01  17:21:20:747\n",
      "13   13082  13082.jpg  -5.34  2018-07-01  17:21:20:858\n",
      "14   13084  13084.jpg  -5.34  2018-07-01  17:21:20:957\n",
      "15   13086  13086.jpg  -4.94  2018-07-01   17:21:21:86\n",
      "16   13088  13088.jpg  -4.84  2018-07-01  17:21:21:146\n",
      "17   13090  13090.jpg  -4.64  2018-07-01  17:21:21:217\n",
      "18   13092  13092.jpg  -4.64  2018-07-01  17:21:21:287\n",
      "19   13094  13094.jpg  -4.64  2018-07-01  17:21:21:376\n",
      "20   13096  13096.jpg  -4.64  2018-07-01  17:21:21:482\n",
      "21   13098  13098.jpg  -4.64  2018-07-01  17:21:21:578\n",
      "22   13100  13100.jpg  -4.64  2018-07-01  17:21:21:715\n",
      "23   13102  13102.jpg  -4.94  2018-07-01  17:21:21:835\n",
      "24   13104  13104.jpg  -5.14  2018-07-01  17:21:21:944\n",
      "25   13106  13106.jpg  -5.34  2018-07-01   17:21:22:68\n",
      "26   13108  13108.jpg  -5.34  2018-07-01  17:21:22:145\n",
      "27   13110  13110.jpg  -5.34  2018-07-01  17:21:22:271\n",
      "28   13112  13112.jpg  -5.34  2018-07-01  17:21:22:406\n",
      "29   13114  13114.jpg  -5.34  2018-07-01  17:21:22:506\n",
      "..     ...        ...    ...         ...           ...\n",
      "98   13252  13252.jpg   5.14  2018-07-01   17:21:30:63\n",
      "99   13254  13254.jpg   5.14  2018-07-01  17:21:30:194\n",
      "100  13256  13256.jpg   4.84  2018-07-01  17:21:30:321\n",
      "101  13258  13258.jpg   4.44  2018-07-01  17:21:30:451\n",
      "102  13260  13260.jpg   4.34  2018-07-01  17:21:30:558\n",
      "103  13262  13262.jpg   4.03  2018-07-01  17:21:30:657\n",
      "104  13264  13264.jpg   3.93  2018-07-01  17:21:30:747\n",
      "105  13266  13266.jpg   3.73  2018-07-01  17:21:30:857\n",
      "106  13268  13268.jpg   3.33  2018-07-01  17:21:30:956\n",
      "107  13270  13270.jpg   3.23  2018-07-01   17:21:31:78\n",
      "108  13272  13272.jpg   2.62  2018-07-01  17:21:31:179\n",
      "109  13274  13274.jpg   2.12  2018-07-01  17:21:31:277\n",
      "110  13276  13276.jpg   2.12  2018-07-01  17:21:31:379\n",
      "111  13278  13278.jpg   1.01  2018-07-01  17:21:31:542\n",
      "112  13280  13280.jpg   1.01  2018-07-01  17:21:31:646\n",
      "113  13282  13282.jpg   1.01  2018-07-01  17:21:31:780\n",
      "114  13284  13284.jpg   0.91  2018-07-01  17:21:31:909\n",
      "115  13286  13286.jpg   0.81  2018-07-01   17:21:32:44\n",
      "116  13288  13288.jpg   0.61  2018-07-01  17:21:32:173\n",
      "117  13290  13290.jpg   0.61  2018-07-01  17:21:32:308\n",
      "118  13292  13292.jpg   0.50  2018-07-01  17:21:32:434\n",
      "119  13294  13294.jpg   0.50  2018-07-01  17:21:32:535\n",
      "120  13296  13296.jpg   0.00  2018-07-01  17:21:32:662\n",
      "121  13298  13298.jpg   0.40  2018-07-01  17:21:32:765\n",
      "122  13300  13300.jpg   0.50  2018-07-01  17:21:32:932\n",
      "123  13302  13302.jpg   0.61  2018-07-01   17:21:33:66\n",
      "124  13304  13304.jpg   0.71  2018-07-01  17:21:33:163\n",
      "125  13306  13306.jpg   0.91  2018-07-01  17:21:33:263\n",
      "126  13308  13308.jpg   1.01  2018-07-01  17:21:33:386\n",
      "127  13310  13310.jpg   1.01  2018-07-01  17:21:33:495\n",
      "\n",
      "[128 rows x 5 columns]\n",
      "__data_generation(): i=0, sample=index                13056\n",
      "image_name       13056.jpg\n",
      "angle                -6.55\n",
      "date            2018-07-01\n",
      "time          17:21:19:331\n",
      "Name: 0, dtype: object\n",
      "_data_generation(): data_len = 128\n",
      "batch_data:      index image_name      angle        date          time\n",
      "0    33792  33792.jpg  14.520000  2018-07-01   17:39:40:26\n",
      "1    33794  33794.jpg  14.020000  2018-07-01  17:39:40:156\n",
      "2    33796  33796.jpg  12.100000  2018-07-01  17:39:40:320\n",
      "3    33798  33798.jpg   9.880000  2018-07-01  17:39:40:423\n",
      "4    33800  33800.jpg   7.460000  2018-07-01  17:39:40:520\n",
      "5    33802  33802.jpg   5.950000  2018-07-01  17:39:40:619\n",
      "6    33804  33804.jpg   5.450000  2018-07-01  17:39:40:745\n",
      "7    33806  33806.jpg   3.530000  2018-07-01  17:39:40:844\n",
      "8    33808  33808.jpg   2.920000  2018-07-01  17:39:40:950\n",
      "9    33810  33810.jpg   2.920000  2018-07-01   17:39:41:17\n",
      "10   33812  33812.jpg   2.920000  2018-07-01  17:39:41:146\n",
      "11   33814  33814.jpg   3.130000  2018-07-01  17:39:41:217\n",
      "12   33816  33816.jpg   3.130000  2018-07-01  17:39:41:314\n",
      "13   33818  33818.jpg   3.430000  2018-07-01  17:39:41:477\n",
      "14   33820  33820.jpg   4.130000  2018-07-01  17:39:41:608\n",
      "15   33822  33822.jpg   6.050000  2018-07-01  17:39:41:707\n",
      "16   33824  33824.jpg   6.550000  2018-07-01  17:39:41:807\n",
      "17   33826  33826.jpg   4.740000  2018-07-01  17:39:41:972\n",
      "18   33828  33828.jpg   4.340000  2018-07-01   17:39:42:97\n",
      "19   33830  33830.jpg   4.030000  2018-07-01  17:39:42:233\n",
      "20   33832  33832.jpg   3.330000  2018-07-01  17:39:42:329\n",
      "21   33834  33834.jpg   1.820000  2018-07-01  17:39:42:434\n",
      "22   33836  33836.jpg   0.200000  2018-07-01  17:39:42:532\n",
      "23   33838  33838.jpg  -2.120000  2018-07-01  17:39:42:665\n",
      "24   33840  33840.jpg  -4.030000  2018-07-01  17:39:42:789\n",
      "25   33842  33842.jpg  -4.740000  2018-07-01  17:39:42:865\n",
      "26   33844  33844.jpg  -6.350000  2018-07-01  17:39:42:996\n",
      "27   33846  33846.jpg  -8.770000  2018-07-01   17:39:43:95\n",
      "28   33848  33848.jpg   0.000000  2018-07-01  17:39:43:195\n",
      "29   33850  33850.jpg -13.820000  2018-07-01  17:39:43:322\n",
      "..     ...        ...        ...         ...           ...\n",
      "98   33988  33988.jpg -54.759998  2018-07-01  17:39:50:918\n",
      "99   33990  33990.jpg -54.660000  2018-07-01   17:39:51:50\n",
      "100  33992  33992.jpg -52.639999  2018-07-01  17:39:51:146\n",
      "101  33994  33994.jpg -47.090000  2018-07-01  17:39:51:273\n",
      "102  33996  33996.jpg -39.830002  2018-07-01  17:39:51:411\n",
      "103  33998  33998.jpg -35.799999  2018-07-01  17:39:51:480\n",
      "104  34000  34000.jpg -31.969999  2018-07-01  17:39:51:539\n",
      "105  34002  34002.jpg -22.590000  2018-07-01  17:39:51:670\n",
      "106  34004  34004.jpg -17.950001  2018-07-01  17:39:51:766\n",
      "107  34006  34006.jpg -16.540001  2018-07-01  17:39:51:865\n",
      "108  34008  34008.jpg -15.730000  2018-07-01  17:39:51:972\n",
      "109  34010  34010.jpg -14.820000  2018-07-01   17:39:52:41\n",
      "110  34012  34012.jpg -12.200000  2018-07-01  17:39:52:167\n",
      "111  34014  34014.jpg  -9.980000  2018-07-01  17:39:52:262\n",
      "112  34016  34016.jpg  -8.670000  2018-07-01  17:39:52:330\n",
      "113  34018  34018.jpg  -7.160000  2018-07-01  17:39:52:429\n",
      "114  34020  34020.jpg  -5.950000  2018-07-01  17:39:52:535\n",
      "115  34022  34022.jpg  -5.850000  2018-07-01  17:39:52:633\n",
      "116  34024  34024.jpg  -5.850000  2018-07-01  17:39:52:732\n",
      "117  34026  34026.jpg  -4.840000  2018-07-01  17:39:52:856\n",
      "118  34028  34028.jpg  -4.030000  2018-07-01  17:39:52:925\n",
      "119  34030  34030.jpg  -3.430000  2018-07-01   17:39:53:56\n",
      "120  34032  34032.jpg  -1.710000  2018-07-01  17:39:53:154\n",
      "121  34034  34034.jpg  -0.910000  2018-07-01  17:39:53:255\n",
      "122  34036  34036.jpg  -0.910000  2018-07-01  17:39:53:353\n",
      "123  34038  34038.jpg  -0.910000  2018-07-01  17:39:53:450\n",
      "124  34040  34040.jpg  -0.910000  2018-07-01  17:39:53:551\n",
      "125  34042  34042.jpg  -0.810000  2018-07-01  17:39:53:649\n",
      "126  34044  34044.jpg  -0.300000  2018-07-01  17:39:53:747\n",
      "127  34046  34046.jpg   2.020000  2018-07-01  17:39:53:885\n",
      "\n",
      "[128 rows x 5 columns]\n",
      "__data_generation(): i=0, sample=index               33792\n",
      "image_name      33792.jpg\n",
      "angle               14.52\n",
      "date           2018-07-01\n",
      "time          17:39:40:26\n",
      "Name: 0, dtype: object\n"
     ]
    },
    {
     "ename": "ValueError",
     "evalue": "could not broadcast input array from shape (256,455) into shape (256,455,1)",
     "output_type": "error",
     "traceback": [
      "\u001b[0;31m---------------------------------------------------------------------------\u001b[0m",
      "\u001b[0;31mValueError\u001b[0m                                Traceback (most recent call last)",
      "\u001b[0;32m<ipython-input-85-11b3c4868ed3>\u001b[0m in \u001b[0;36m<module>\u001b[0;34m()\u001b[0m\n\u001b[0;32m----> 1\u001b[0;31m \u001b[0mcnn\u001b[0m\u001b[0;34m.\u001b[0m\u001b[0mfit_generator\u001b[0m\u001b[0;34m(\u001b[0m\u001b[0mgen\u001b[0m\u001b[0;34m,\u001b[0m \u001b[0mepochs\u001b[0m\u001b[0;34m=\u001b[0m\u001b[0;36m1\u001b[0m\u001b[0;34m,\u001b[0m \u001b[0msteps_per_epoch\u001b[0m\u001b[0;34m=\u001b[0m\u001b[0;36m1\u001b[0m\u001b[0;34m)\u001b[0m\u001b[0;34m\u001b[0m\u001b[0m\n\u001b[0m",
      "\u001b[0;32m/Users/markstrefford/anaconda/lib/python3.6/site-packages/keras/legacy/interfaces.py\u001b[0m in \u001b[0;36mwrapper\u001b[0;34m(*args, **kwargs)\u001b[0m\n\u001b[1;32m     89\u001b[0m                 warnings.warn('Update your `' + object_name + '` call to the ' +\n\u001b[1;32m     90\u001b[0m                               'Keras 2 API: ' + signature, stacklevel=2)\n\u001b[0;32m---> 91\u001b[0;31m             \u001b[0;32mreturn\u001b[0m \u001b[0mfunc\u001b[0m\u001b[0;34m(\u001b[0m\u001b[0;34m*\u001b[0m\u001b[0margs\u001b[0m\u001b[0;34m,\u001b[0m \u001b[0;34m**\u001b[0m\u001b[0mkwargs\u001b[0m\u001b[0;34m)\u001b[0m\u001b[0;34m\u001b[0m\u001b[0m\n\u001b[0m\u001b[1;32m     92\u001b[0m         \u001b[0mwrapper\u001b[0m\u001b[0;34m.\u001b[0m\u001b[0m_original_function\u001b[0m \u001b[0;34m=\u001b[0m \u001b[0mfunc\u001b[0m\u001b[0;34m\u001b[0m\u001b[0m\n\u001b[1;32m     93\u001b[0m         \u001b[0;32mreturn\u001b[0m \u001b[0mwrapper\u001b[0m\u001b[0;34m\u001b[0m\u001b[0m\n",
      "\u001b[0;32m/Users/markstrefford/anaconda/lib/python3.6/site-packages/keras/engine/training.py\u001b[0m in \u001b[0;36mfit_generator\u001b[0;34m(self, generator, steps_per_epoch, epochs, verbose, callbacks, validation_data, validation_steps, class_weight, max_queue_size, workers, use_multiprocessing, shuffle, initial_epoch)\u001b[0m\n\u001b[1;32m   1416\u001b[0m             \u001b[0muse_multiprocessing\u001b[0m\u001b[0;34m=\u001b[0m\u001b[0muse_multiprocessing\u001b[0m\u001b[0;34m,\u001b[0m\u001b[0;34m\u001b[0m\u001b[0m\n\u001b[1;32m   1417\u001b[0m             \u001b[0mshuffle\u001b[0m\u001b[0;34m=\u001b[0m\u001b[0mshuffle\u001b[0m\u001b[0;34m,\u001b[0m\u001b[0;34m\u001b[0m\u001b[0m\n\u001b[0;32m-> 1418\u001b[0;31m             initial_epoch=initial_epoch)\n\u001b[0m\u001b[1;32m   1419\u001b[0m \u001b[0;34m\u001b[0m\u001b[0m\n\u001b[1;32m   1420\u001b[0m     \u001b[0;34m@\u001b[0m\u001b[0minterfaces\u001b[0m\u001b[0;34m.\u001b[0m\u001b[0mlegacy_generator_methods_support\u001b[0m\u001b[0;34m\u001b[0m\u001b[0m\n",
      "\u001b[0;32m/Users/markstrefford/anaconda/lib/python3.6/site-packages/keras/engine/training_generator.py\u001b[0m in \u001b[0;36mfit_generator\u001b[0;34m(model, generator, steps_per_epoch, epochs, verbose, callbacks, validation_data, validation_steps, class_weight, max_queue_size, workers, use_multiprocessing, shuffle, initial_epoch)\u001b[0m\n\u001b[1;32m    179\u001b[0m             \u001b[0mbatch_index\u001b[0m \u001b[0;34m=\u001b[0m \u001b[0;36m0\u001b[0m\u001b[0;34m\u001b[0m\u001b[0m\n\u001b[1;32m    180\u001b[0m             \u001b[0;32mwhile\u001b[0m \u001b[0msteps_done\u001b[0m \u001b[0;34m<\u001b[0m \u001b[0msteps_per_epoch\u001b[0m\u001b[0;34m:\u001b[0m\u001b[0;34m\u001b[0m\u001b[0m\n\u001b[0;32m--> 181\u001b[0;31m                 \u001b[0mgenerator_output\u001b[0m \u001b[0;34m=\u001b[0m \u001b[0mnext\u001b[0m\u001b[0;34m(\u001b[0m\u001b[0moutput_generator\u001b[0m\u001b[0;34m)\u001b[0m\u001b[0;34m\u001b[0m\u001b[0m\n\u001b[0m\u001b[1;32m    182\u001b[0m \u001b[0;34m\u001b[0m\u001b[0m\n\u001b[1;32m    183\u001b[0m                 \u001b[0;32mif\u001b[0m \u001b[0;32mnot\u001b[0m \u001b[0mhasattr\u001b[0m\u001b[0;34m(\u001b[0m\u001b[0mgenerator_output\u001b[0m\u001b[0;34m,\u001b[0m \u001b[0;34m'__len__'\u001b[0m\u001b[0;34m)\u001b[0m\u001b[0;34m:\u001b[0m\u001b[0;34m\u001b[0m\u001b[0m\n",
      "\u001b[0;32m/Users/markstrefford/anaconda/lib/python3.6/site-packages/keras/utils/data_utils.py\u001b[0m in \u001b[0;36mget\u001b[0;34m(self)\u001b[0m\n\u001b[1;32m    599\u001b[0m         \u001b[0;32mexcept\u001b[0m \u001b[0mException\u001b[0m \u001b[0;32mas\u001b[0m \u001b[0me\u001b[0m\u001b[0;34m:\u001b[0m\u001b[0;34m\u001b[0m\u001b[0m\n\u001b[1;32m    600\u001b[0m             \u001b[0mself\u001b[0m\u001b[0;34m.\u001b[0m\u001b[0mstop\u001b[0m\u001b[0;34m(\u001b[0m\u001b[0;34m)\u001b[0m\u001b[0;34m\u001b[0m\u001b[0m\n\u001b[0;32m--> 601\u001b[0;31m             \u001b[0msix\u001b[0m\u001b[0;34m.\u001b[0m\u001b[0mreraise\u001b[0m\u001b[0;34m(\u001b[0m\u001b[0;34m*\u001b[0m\u001b[0msys\u001b[0m\u001b[0;34m.\u001b[0m\u001b[0mexc_info\u001b[0m\u001b[0;34m(\u001b[0m\u001b[0;34m)\u001b[0m\u001b[0;34m)\u001b[0m\u001b[0;34m\u001b[0m\u001b[0m\n\u001b[0m\u001b[1;32m    602\u001b[0m \u001b[0;34m\u001b[0m\u001b[0m\n\u001b[1;32m    603\u001b[0m \u001b[0;34m\u001b[0m\u001b[0m\n",
      "\u001b[0;32m/Users/markstrefford/anaconda/lib/python3.6/site-packages/six.py\u001b[0m in \u001b[0;36mreraise\u001b[0;34m(tp, value, tb)\u001b[0m\n\u001b[1;32m    684\u001b[0m         \u001b[0;32mif\u001b[0m \u001b[0mvalue\u001b[0m\u001b[0;34m.\u001b[0m\u001b[0m__traceback__\u001b[0m \u001b[0;32mis\u001b[0m \u001b[0;32mnot\u001b[0m \u001b[0mtb\u001b[0m\u001b[0;34m:\u001b[0m\u001b[0;34m\u001b[0m\u001b[0m\n\u001b[1;32m    685\u001b[0m             \u001b[0;32mraise\u001b[0m \u001b[0mvalue\u001b[0m\u001b[0;34m.\u001b[0m\u001b[0mwith_traceback\u001b[0m\u001b[0;34m(\u001b[0m\u001b[0mtb\u001b[0m\u001b[0;34m)\u001b[0m\u001b[0;34m\u001b[0m\u001b[0m\n\u001b[0;32m--> 686\u001b[0;31m         \u001b[0;32mraise\u001b[0m \u001b[0mvalue\u001b[0m\u001b[0;34m\u001b[0m\u001b[0m\n\u001b[0m\u001b[1;32m    687\u001b[0m \u001b[0;34m\u001b[0m\u001b[0m\n\u001b[1;32m    688\u001b[0m \u001b[0;32melse\u001b[0m\u001b[0;34m:\u001b[0m\u001b[0;34m\u001b[0m\u001b[0m\n",
      "\u001b[0;32m/Users/markstrefford/anaconda/lib/python3.6/site-packages/keras/utils/data_utils.py\u001b[0m in \u001b[0;36mget\u001b[0;34m(self)\u001b[0m\n\u001b[1;32m    593\u001b[0m         \u001b[0;32mtry\u001b[0m\u001b[0;34m:\u001b[0m\u001b[0;34m\u001b[0m\u001b[0m\n\u001b[1;32m    594\u001b[0m             \u001b[0;32mwhile\u001b[0m \u001b[0mself\u001b[0m\u001b[0;34m.\u001b[0m\u001b[0mis_running\u001b[0m\u001b[0;34m(\u001b[0m\u001b[0;34m)\u001b[0m\u001b[0;34m:\u001b[0m\u001b[0;34m\u001b[0m\u001b[0m\n\u001b[0;32m--> 595\u001b[0;31m                 \u001b[0minputs\u001b[0m \u001b[0;34m=\u001b[0m \u001b[0mself\u001b[0m\u001b[0;34m.\u001b[0m\u001b[0mqueue\u001b[0m\u001b[0;34m.\u001b[0m\u001b[0mget\u001b[0m\u001b[0;34m(\u001b[0m\u001b[0mblock\u001b[0m\u001b[0;34m=\u001b[0m\u001b[0;32mTrue\u001b[0m\u001b[0;34m)\u001b[0m\u001b[0;34m.\u001b[0m\u001b[0mget\u001b[0m\u001b[0;34m(\u001b[0m\u001b[0;34m)\u001b[0m\u001b[0;34m\u001b[0m\u001b[0m\n\u001b[0m\u001b[1;32m    596\u001b[0m                 \u001b[0mself\u001b[0m\u001b[0;34m.\u001b[0m\u001b[0mqueue\u001b[0m\u001b[0;34m.\u001b[0m\u001b[0mtask_done\u001b[0m\u001b[0;34m(\u001b[0m\u001b[0;34m)\u001b[0m\u001b[0;34m\u001b[0m\u001b[0m\n\u001b[1;32m    597\u001b[0m                 \u001b[0;32mif\u001b[0m \u001b[0minputs\u001b[0m \u001b[0;32mis\u001b[0m \u001b[0;32mnot\u001b[0m \u001b[0;32mNone\u001b[0m\u001b[0;34m:\u001b[0m\u001b[0;34m\u001b[0m\u001b[0m\n",
      "\u001b[0;32m/Users/markstrefford/anaconda/lib/python3.6/multiprocessing/pool.py\u001b[0m in \u001b[0;36mget\u001b[0;34m(self, timeout)\u001b[0m\n\u001b[1;32m    606\u001b[0m             \u001b[0;32mreturn\u001b[0m \u001b[0mself\u001b[0m\u001b[0;34m.\u001b[0m\u001b[0m_value\u001b[0m\u001b[0;34m\u001b[0m\u001b[0m\n\u001b[1;32m    607\u001b[0m         \u001b[0;32melse\u001b[0m\u001b[0;34m:\u001b[0m\u001b[0;34m\u001b[0m\u001b[0m\n\u001b[0;32m--> 608\u001b[0;31m             \u001b[0;32mraise\u001b[0m \u001b[0mself\u001b[0m\u001b[0;34m.\u001b[0m\u001b[0m_value\u001b[0m\u001b[0;34m\u001b[0m\u001b[0m\n\u001b[0m\u001b[1;32m    609\u001b[0m \u001b[0;34m\u001b[0m\u001b[0m\n\u001b[1;32m    610\u001b[0m     \u001b[0;32mdef\u001b[0m \u001b[0m_set\u001b[0m\u001b[0;34m(\u001b[0m\u001b[0mself\u001b[0m\u001b[0;34m,\u001b[0m \u001b[0mi\u001b[0m\u001b[0;34m,\u001b[0m \u001b[0mobj\u001b[0m\u001b[0;34m)\u001b[0m\u001b[0;34m:\u001b[0m\u001b[0;34m\u001b[0m\u001b[0m\n",
      "\u001b[0;32m/Users/markstrefford/anaconda/lib/python3.6/multiprocessing/pool.py\u001b[0m in \u001b[0;36mworker\u001b[0;34m(inqueue, outqueue, initializer, initargs, maxtasks, wrap_exception)\u001b[0m\n\u001b[1;32m    117\u001b[0m         \u001b[0mjob\u001b[0m\u001b[0;34m,\u001b[0m \u001b[0mi\u001b[0m\u001b[0;34m,\u001b[0m \u001b[0mfunc\u001b[0m\u001b[0;34m,\u001b[0m \u001b[0margs\u001b[0m\u001b[0;34m,\u001b[0m \u001b[0mkwds\u001b[0m \u001b[0;34m=\u001b[0m \u001b[0mtask\u001b[0m\u001b[0;34m\u001b[0m\u001b[0m\n\u001b[1;32m    118\u001b[0m         \u001b[0;32mtry\u001b[0m\u001b[0;34m:\u001b[0m\u001b[0;34m\u001b[0m\u001b[0m\n\u001b[0;32m--> 119\u001b[0;31m             \u001b[0mresult\u001b[0m \u001b[0;34m=\u001b[0m \u001b[0;34m(\u001b[0m\u001b[0;32mTrue\u001b[0m\u001b[0;34m,\u001b[0m \u001b[0mfunc\u001b[0m\u001b[0;34m(\u001b[0m\u001b[0;34m*\u001b[0m\u001b[0margs\u001b[0m\u001b[0;34m,\u001b[0m \u001b[0;34m**\u001b[0m\u001b[0mkwds\u001b[0m\u001b[0;34m)\u001b[0m\u001b[0;34m)\u001b[0m\u001b[0;34m\u001b[0m\u001b[0m\n\u001b[0m\u001b[1;32m    120\u001b[0m         \u001b[0;32mexcept\u001b[0m \u001b[0mException\u001b[0m \u001b[0;32mas\u001b[0m \u001b[0me\u001b[0m\u001b[0;34m:\u001b[0m\u001b[0;34m\u001b[0m\u001b[0m\n\u001b[1;32m    121\u001b[0m             \u001b[0;32mif\u001b[0m \u001b[0mwrap_exception\u001b[0m\u001b[0;34m:\u001b[0m\u001b[0;34m\u001b[0m\u001b[0m\n",
      "\u001b[0;32m/Users/markstrefford/anaconda/lib/python3.6/site-packages/keras/utils/data_utils.py\u001b[0m in \u001b[0;36mget_index\u001b[0;34m(uid, i)\u001b[0m\n\u001b[1;32m    399\u001b[0m         \u001b[0mThe\u001b[0m \u001b[0mvalue\u001b[0m \u001b[0mat\u001b[0m \u001b[0mindex\u001b[0m\u001b[0;31m \u001b[0m\u001b[0;31m`\u001b[0m\u001b[0mi\u001b[0m\u001b[0;31m`\u001b[0m\u001b[0;34m.\u001b[0m\u001b[0;34m\u001b[0m\u001b[0m\n\u001b[1;32m    400\u001b[0m     \"\"\"\n\u001b[0;32m--> 401\u001b[0;31m     \u001b[0;32mreturn\u001b[0m \u001b[0m_SHARED_SEQUENCES\u001b[0m\u001b[0;34m[\u001b[0m\u001b[0muid\u001b[0m\u001b[0;34m]\u001b[0m\u001b[0;34m[\u001b[0m\u001b[0mi\u001b[0m\u001b[0;34m]\u001b[0m\u001b[0;34m\u001b[0m\u001b[0m\n\u001b[0m\u001b[1;32m    402\u001b[0m \u001b[0;34m\u001b[0m\u001b[0m\n\u001b[1;32m    403\u001b[0m \u001b[0;34m\u001b[0m\u001b[0m\n",
      "\u001b[0;32m/Users/markstrefford/Development/Packt/1. Learning Python AI by Example/4. Predicting the steering angle of a car/Source/data/generators.py\u001b[0m in \u001b[0;36m__getitem__\u001b[0;34m(self, batch_num)\u001b[0m\n\u001b[1;32m     46\u001b[0m         \"\"\"\n\u001b[1;32m     47\u001b[0m         \u001b[0mbatch_data\u001b[0m \u001b[0;34m=\u001b[0m \u001b[0mself\u001b[0m\u001b[0;34m.\u001b[0m\u001b[0mdf\u001b[0m\u001b[0;34m[\u001b[0m\u001b[0mbatch_num\u001b[0m \u001b[0;34m*\u001b[0m \u001b[0mself\u001b[0m\u001b[0;34m.\u001b[0m\u001b[0mbatch_size\u001b[0m\u001b[0;34m:\u001b[0m\u001b[0;34m(\u001b[0m\u001b[0mbatch_num\u001b[0m \u001b[0;34m+\u001b[0m \u001b[0;36m1\u001b[0m\u001b[0;34m)\u001b[0m \u001b[0;34m*\u001b[0m \u001b[0mself\u001b[0m\u001b[0;34m.\u001b[0m\u001b[0mbatch_size\u001b[0m\u001b[0;34m]\u001b[0m\u001b[0;34m\u001b[0m\u001b[0m\n\u001b[0;32m---> 48\u001b[0;31m         \u001b[0mX\u001b[0m\u001b[0;34m,\u001b[0m \u001b[0my\u001b[0m \u001b[0;34m=\u001b[0m \u001b[0mself\u001b[0m\u001b[0;34m.\u001b[0m\u001b[0m__data_generation\u001b[0m\u001b[0;34m(\u001b[0m\u001b[0mbatch_data\u001b[0m\u001b[0;34m.\u001b[0m\u001b[0mreset_index\u001b[0m\u001b[0;34m(\u001b[0m\u001b[0;34m)\u001b[0m\u001b[0;34m)\u001b[0m\u001b[0;34m\u001b[0m\u001b[0m\n\u001b[0m\u001b[1;32m     49\u001b[0m         \u001b[0;32mreturn\u001b[0m \u001b[0mX\u001b[0m\u001b[0;34m,\u001b[0m \u001b[0my\u001b[0m\u001b[0;34m\u001b[0m\u001b[0m\n\u001b[1;32m     50\u001b[0m \u001b[0;34m\u001b[0m\u001b[0m\n",
      "\u001b[0;32m/Users/markstrefford/Development/Packt/1. Learning Python AI by Example/4. Predicting the steering angle of a car/Source/data/generators.py\u001b[0m in \u001b[0;36m__data_generation\u001b[0;34m(self, batch_data)\u001b[0m\n\u001b[1;32m     62\u001b[0m             \u001b[0mprint\u001b[0m\u001b[0;34m(\u001b[0m\u001b[0;34m'__data_generation(): i={}, sample={}'\u001b[0m\u001b[0;34m.\u001b[0m\u001b[0mformat\u001b[0m\u001b[0;34m(\u001b[0m\u001b[0mi\u001b[0m\u001b[0;34m,\u001b[0m \u001b[0msample\u001b[0m\u001b[0;34m)\u001b[0m\u001b[0;34m)\u001b[0m\u001b[0;34m\u001b[0m\u001b[0m\n\u001b[1;32m     63\u001b[0m             \u001b[0mimage_path\u001b[0m \u001b[0;34m=\u001b[0m \u001b[0mos\u001b[0m\u001b[0;34m.\u001b[0m\u001b[0mpath\u001b[0m\u001b[0;34m.\u001b[0m\u001b[0mjoin\u001b[0m\u001b[0;34m(\u001b[0m\u001b[0mself\u001b[0m\u001b[0;34m.\u001b[0m\u001b[0mdata_dir\u001b[0m\u001b[0;34m,\u001b[0m \u001b[0msample\u001b[0m\u001b[0;34m[\u001b[0m\u001b[0;34m'image_name'\u001b[0m\u001b[0;34m]\u001b[0m\u001b[0;34m)\u001b[0m\u001b[0;34m\u001b[0m\u001b[0m\n\u001b[0;32m---> 64\u001b[0;31m             \u001b[0mX\u001b[0m\u001b[0;34m[\u001b[0m\u001b[0mi\u001b[0m\u001b[0;34m,\u001b[0m \u001b[0;34m:\u001b[0m\u001b[0;34m,\u001b[0m \u001b[0;34m:\u001b[0m\u001b[0;34m,\u001b[0m \u001b[0;34m:\u001b[0m\u001b[0;34m]\u001b[0m \u001b[0;34m=\u001b[0m \u001b[0mcv2\u001b[0m\u001b[0;34m.\u001b[0m\u001b[0mimread\u001b[0m\u001b[0;34m(\u001b[0m\u001b[0mimage_path\u001b[0m\u001b[0;34m,\u001b[0m \u001b[0mcv2\u001b[0m\u001b[0;34m.\u001b[0m\u001b[0mIMREAD_GRAYSCALE\u001b[0m\u001b[0;34m)\u001b[0m\u001b[0;34m\u001b[0m\u001b[0m\n\u001b[0m\u001b[1;32m     65\u001b[0m             \u001b[0my\u001b[0m\u001b[0;34m[\u001b[0m\u001b[0mi\u001b[0m\u001b[0;34m]\u001b[0m \u001b[0;34m=\u001b[0m \u001b[0msample\u001b[0m\u001b[0;34m[\u001b[0m\u001b[0;34m'angle'\u001b[0m\u001b[0;34m]\u001b[0m\u001b[0;34m\u001b[0m\u001b[0m\n\u001b[1;32m     66\u001b[0m         \u001b[0;32mreturn\u001b[0m \u001b[0mX\u001b[0m\u001b[0;34m,\u001b[0m \u001b[0my\u001b[0m\u001b[0;34m\u001b[0m\u001b[0m\n",
      "\u001b[0;31mValueError\u001b[0m: could not broadcast input array from shape (256,455) into shape (256,455,1)"
     ]
    }
   ],
   "source": [
    "cnn.fit_generator(gen, epochs=1, steps_per_epoch=1)"
   ]
  },
  {
   "cell_type": "code",
   "execution_count": null,
   "metadata": {
    "collapsed": true
   },
   "outputs": [],
   "source": []
  }
 ],
 "metadata": {
  "kernelspec": {
   "display_name": "Python 3",
   "language": "python",
   "name": "python3"
  },
  "language_info": {
   "codemirror_mode": {
    "name": "ipython",
    "version": 3
   },
   "file_extension": ".py",
   "mimetype": "text/x-python",
   "name": "python",
   "nbconvert_exporter": "python",
   "pygments_lexer": "ipython3",
   "version": "3.6.1"
  }
 },
 "nbformat": 4,
 "nbformat_minor": 2
}
