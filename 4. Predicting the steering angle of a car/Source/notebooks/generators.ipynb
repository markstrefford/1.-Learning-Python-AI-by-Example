{
 "cells": [
  {
   "cell_type": "markdown",
   "metadata": {},
   "source": [
    "# NEEDS REWORK!! Generators notebook\n",
    "\n",
    "## Generators have changed, so needs to be reworked!\n",
    "\n",
    "This notebook let's us understand generators as a way to train Neural Networks on data too big to fit in memory"
   ]
  },
  {
   "cell_type": "code",
   "execution_count": 5,
   "metadata": {},
   "outputs": [
    {
     "name": "stdout",
     "output_type": "stream",
     "text": [
      "The autoreload extension is already loaded. To reload it, use:\n",
      "  %reload_ext autoreload\n"
     ]
    }
   ],
   "source": [
    "%load_ext autoreload\n",
    "%autoreload 2\n",
    "\n",
    "import cv2\n",
    "import sys\n",
    "sys.path.append('../')\n",
    "\n",
    "from data import generators"
   ]
  },
  {
   "cell_type": "code",
   "execution_count": 30,
   "metadata": {},
   "outputs": [],
   "source": [
    "gen = generators.data_generator(data_dir='../data/data/', data_file='../data/data.txt')"
   ]
  },
  {
   "cell_type": "code",
   "execution_count": 32,
   "metadata": {
    "scrolled": true
   },
   "outputs": [
    {
     "data": {
      "text/plain": [
       "-1"
      ]
     },
     "execution_count": 32,
     "metadata": {},
     "output_type": "execute_result"
    }
   ],
   "source": [
    "cv2.startWindowThread()\n",
    "i = 0\n",
    "while True:\n",
    "    for x, y in gen.train_generator():\n",
    "        for image, angle in zip(x, y):\n",
    "            frame = 'Frame {}'.format(i)\n",
    "            angle = 'Angle: {}'.format(round(angle, 1))\n",
    "            cv2.putText(image, frame, (10, 20), cv2.FONT_HERSHEY_SIMPLEX, 0.3, (255, 0, 0),1 ,cv2.LINE_AA)\n",
    "            cv2.putText(image, angle, (10, 50), cv2.FONT_HERSHEY_SIMPLEX, 0.5, (255, 0, 0),1 ,cv2.LINE_AA)\n",
    "            cv2.imshow('Steering Angle',image.reshape(256, 455))\n",
    "            i += 1\n",
    "            k = cv2.waitKey(5) & 0xFF\n",
    "            # bailout on 'esc'\n",
    "            finish = True if k == 27 else False\n",
    "        if finish:\n",
    "            break\n",
    "    if finish:\n",
    "        break\n",
    "cv2.destroyAllWindows()\n",
    "cv2.waitKey(1)"
   ]
  },
  {
   "cell_type": "code",
   "execution_count": null,
   "metadata": {
    "collapsed": true
   },
   "outputs": [],
   "source": []
  }
 ],
 "metadata": {
  "kernelspec": {
   "display_name": "Python 3",
   "language": "python",
   "name": "python3"
  },
  "language_info": {
   "codemirror_mode": {
    "name": "ipython",
    "version": 3
   },
   "file_extension": ".py",
   "mimetype": "text/x-python",
   "name": "python",
   "nbconvert_exporter": "python",
   "pygments_lexer": "ipython3",
   "version": "3.6.1"
  }
 },
 "nbformat": 4,
 "nbformat_minor": 2
}
