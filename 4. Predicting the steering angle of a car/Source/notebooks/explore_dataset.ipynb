{
 "cells": [
  {
   "cell_type": "markdown",
   "metadata": {},
   "source": [
    "# Explore the steering angle dataset\n",
    "\n",
    "This notebook helps us explore the dataset and ensure that we understand it's size, any bias in it, etc."
   ]
  },
  {
   "cell_type": "markdown",
   "metadata": {},
   "source": [
    "* Imports"
   ]
  },
  {
   "cell_type": "code",
   "execution_count": 46,
   "metadata": {
    "collapsed": true
   },
   "outputs": [],
   "source": [
    "import os\n",
    "import pandas as pd\n",
    "import sklearn\n",
    "import matplotlib.pyplot as plt\n",
    "import seaborn as sns\n",
    "import numpy as np\n",
    "%matplotlib inline"
   ]
  },
  {
   "cell_type": "markdown",
   "metadata": {},
   "source": [
    "* Load data"
   ]
  },
  {
   "cell_type": "code",
   "execution_count": 19,
   "metadata": {
    "collapsed": true
   },
   "outputs": [],
   "source": [
    "data_dir = '../data'\n",
    "data_file = os.path.join(data_dir, 'data.txt')\n",
    "columns = ['image_name', 'angle', 'date', 'time']\n",
    "df = pd.read_csv(data_file, names=columns, delimiter=' ')"
   ]
  },
  {
   "cell_type": "markdown",
   "metadata": {},
   "source": [
    "* Get basic statistics from dataset"
   ]
  },
  {
   "cell_type": "code",
   "execution_count": 63,
   "metadata": {},
   "outputs": [
    {
     "name": "stdout",
     "output_type": "stream",
     "text": [
      "Dataset analysis\n",
      "\n",
      "Number of samples = 63825\n",
      "Max steering angle = 252.61000099999998\n",
      "Min steering angle = -338.820007\n",
      "Number of samples with steering angle of 0 = 2491\n",
      "Median steering angle = 1.51\n"
     ]
    }
   ],
   "source": [
    "print('Dataset analysis\\n')\n",
    "print('Number of samples = {}'.format(len(df)))\n",
    "print('Max steering angle = {}'.format(max(df['angle'])))\n",
    "print('Min steering angle = {}'.format(min(df['angle'])))\n",
    "print('Number of samples with steering angle of 0 = {}'.format(len(df[df['angle'] == 0])))\n",
    "print('Median steering angle = {}'.format(np.median(df['angle'])))"
   ]
  },
  {
   "cell_type": "markdown",
   "metadata": {},
   "source": [
    "* Graph distribution of steering angles"
   ]
  },
  {
   "cell_type": "code",
   "execution_count": 52,
   "metadata": {},
   "outputs": [
    {
     "data": {
      "text/plain": [
       "<matplotlib.text.Text at 0x118f35dd8>"
      ]
     },
     "execution_count": 52,
     "metadata": {},
     "output_type": "execute_result"
    },
    {
     "data": {
      "image/png": "[encoded data removed]",
      "text/plain": [
       "<matplotlib.figure.Figure at 0x118f07978>"
      ]
     },
     "metadata": {},
     "output_type": "display_data"
    }
   ],
   "source": [
    "# matplotlib histogram\n",
    "plt.hist(df['angle'], color = 'blue', edgecolor = 'black',\n",
    "         bins = int((360*2)))\n",
    "sns.distplot(df['angle'], hist=True, kde=False, \n",
    "             bins=int((360*2)), color = 'blue',\n",
    "             hist_kws={'edgecolor':'black'})\n",
    "plt.title('Histogram of steering angles')\n",
    "plt.xlabel('Angle (degrees)')\n",
    "plt.ylabel('Number of samples')"
   ]
  },
  {
   "cell_type": "code",
   "execution_count": 61,
   "metadata": {},
   "outputs": [
    {
     "name": "stdout",
     "output_type": "stream",
     "text": [
      "Percentage of samples between -0 and +0 degrees = 3.9%\n",
      "Percentage of samples between -1 and +1 degrees = 10.43%\n",
      "Percentage of samples between -2 and +2 degrees = 11.17%\n",
      "Percentage of samples between -3 and +3 degrees = 8.45%\n",
      "Percentage of samples between -4 and +4 degrees = 6.72%\n",
      "Percentage of samples between -5 and +5 degrees = 8.21%\n",
      "Percentage of samples between -6 and +6 degrees = 4.93%\n",
      "Percentage of samples between -7 and +7 degrees = 2.97%\n",
      "Percentage of samples between -8 and +8 degrees = 3.64%\n",
      "Percentage of samples between -9 and +9 degrees = 2.73%\n",
      "Percentage of samples between -10 and +10 degrees = 4.03%\n",
      "Percentage of samples between -11 and +11 degrees = 2.41%\n",
      "Percentage of samples between -12 and +12 degrees = 2.72%\n",
      "Percentage of samples between -13 and +13 degrees = 2.15%\n",
      "Percentage of samples between -14 and +14 degrees = 1.7%\n",
      "Percentage of samples between -15 and +15 degrees = 1.78%\n",
      "Percentage of samples between -16 and +16 degrees = 1.94%\n",
      "Percentage of samples between -17 and +17 degrees = 1.94%\n",
      "Percentage of samples between -18 and +18 degrees = 1.36%\n",
      "Percentage of samples between -19 and +19 degrees = 1.05%\n",
      "Percentage of samples between -20 and +20 degrees = 0.69%\n",
      "Percentage of samples between -21 and +21 degrees = 0.65%\n",
      "Percentage of samples between -22 and +22 degrees = 0.53%\n",
      "Percentage of samples between -23 and +23 degrees = 0.59%\n",
      "Percentage of samples between -24 and +24 degrees = 0.51%\n",
      "Percentage of samples between -25 and +25 degrees = 0.36%\n",
      "Percentage of samples between -26 and +26 degrees = 0.56%\n",
      "Percentage of samples between -27 and +27 degrees = 0.42%\n",
      "Percentage of samples between -28 and +28 degrees = 0.33%\n",
      "Percentage of samples between -29 and +29 degrees = 0.57%\n",
      "Percentage of samples between -30 and +30 degrees = 0.51%\n",
      "Percentage of samples between -31 and +31 degrees = 0.46%\n",
      "Percentage of samples between -32 and +32 degrees = 0.17%\n",
      "Percentage of samples between -33 and +33 degrees = 0.29%\n",
      "Percentage of samples between -34 and +34 degrees = 0.32%\n",
      "Percentage of samples between -35 and +35 degrees = 0.25%\n",
      "Percentage of samples between -36 and +36 degrees = 0.24%\n",
      "Percentage of samples between -37 and +37 degrees = 0.25%\n",
      "Percentage of samples between -38 and +38 degrees = 0.18%\n",
      "Percentage of samples between -39 and +39 degrees = 0.22%\n",
      "Percentage of samples between -40 and +40 degrees = 0.25%\n",
      "Percentage of samples between -41 and +41 degrees = 0.18%\n",
      "Percentage of samples between -42 and +42 degrees = 0.23%\n",
      "Percentage of samples between -43 and +43 degrees = 0.13%\n",
      "Percentage of samples between -44 and +44 degrees = 0.18%\n"
     ]
    }
   ],
   "source": [
    "prev_pc = 0 \n",
    "for angle in range(45):\n",
    "    pc = (len(df[(df['angle'] <= angle) & (df['angle'] >= -angle)]) / len(df) * 100) - prev_pc\n",
    "    print('Percentage of samples between -{} and +{} degrees = {}%'.format(angle, angle, round(pc,2)))\n",
    "    prev_pc += pc"
   ]
  },
  {
   "cell_type": "code",
   "execution_count": 48,
   "metadata": {},
   "outputs": [
    {
     "name": "stdout",
     "output_type": "stream",
     "text": [
      "1.51\n"
     ]
    }
   ],
   "source": []
  },
  {
   "cell_type": "code",
   "execution_count": null,
   "metadata": {
    "collapsed": true
   },
   "outputs": [],
   "source": []
  }
 ],
 "metadata": {
  "kernelspec": {
   "display_name": "Python 3",
   "language": "python",
   "name": "python3"
  },
  "language_info": {
   "codemirror_mode": {
    "name": "ipython",
    "version": 3
   },
   "file_extension": ".py",
   "mimetype": "text/x-python",
   "name": "python",
   "nbconvert_exporter": "python",
   "pygments_lexer": "ipython3",
   "version": "3.6.1"
  }
 },
 "nbformat": 4,
 "nbformat_minor": 2
}
