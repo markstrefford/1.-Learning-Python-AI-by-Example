{
 "cells": [
  {
   "cell_type": "markdown",
   "metadata": {},
   "source": [
    "# Explore the steering angle dataset\n",
    "\n",
    "This notebook helps us explore the dataset and ensure that we understand it's size, any bias in it, etc."
   ]
  },
  {
   "cell_type": "markdown",
   "metadata": {},
   "source": [
    "* Imports"
   ]
  },
  {
   "cell_type": "code",
   "execution_count": 1,
   "metadata": {},
   "outputs": [],
   "source": [
    "import os\n",
    "import pandas as pd\n",
    "import sklearn\n",
    "import matplotlib.pyplot as plt\n",
    "import numpy as np\n",
    "import cv2\n",
    "import scipy.misc\n",
    "%matplotlib inline"
   ]
  },
  {
   "cell_type": "markdown",
   "metadata": {},
   "source": [
    "* Load data"
   ]
  },
  {
   "cell_type": "code",
   "execution_count": 2,
   "metadata": {},
   "outputs": [],
   "source": [
    "data_dir = '../data'\n",
    "data_file = os.path.join(data_dir, 'data.txt')\n",
    "columns = ['image_name', 'angle', 'date', 'time']\n",
    "df = pd.read_csv(data_file, names=columns, delimiter=' ')"
   ]
  },
  {
   "cell_type": "markdown",
   "metadata": {},
   "source": [
    "* Get basic statistics from dataset"
   ]
  },
  {
   "cell_type": "code",
   "execution_count": 3,
   "metadata": {},
   "outputs": [
    {
     "name": "stdout",
     "output_type": "stream",
     "text": [
      "Dataset analysis\n",
      "\n",
      "Number of samples = 63825\n",
      "Max steering angle = 252.61000099999998\n",
      "Min steering angle = -338.820007\n",
      "Number of samples with steering angle of 0 = 2491\n",
      "Mean value of steering angles = 1.2565407032667197\n",
      "Mean value of abs steering angles = 12.839079826775533\n",
      "Median steering angle = 1.51\n",
      "Standard deviation of steering angle = 26.60488536965648\n"
     ]
    }
   ],
   "source": [
    "print('Dataset analysis\\n')\n",
    "print('Number of samples = {}'.format(len(df)))\n",
    "print('Max steering angle = {}'.format(max(df['angle'])))\n",
    "print('Min steering angle = {}'.format(min(df['angle'])))\n",
    "print('Number of samples with steering angle of 0 = {}'.format(len(df[df['angle'] == 0])))\n",
    "print('Mean value of steering angles = {}'.format(np.mean(df['angle'])))\n",
    "print('Mean value of abs steering angles = {}'.format(np.mean(abs(df['angle']))))\n",
    "print('Median steering angle = {}'.format(np.median(df['angle'])))\n",
    "print('Standard deviation of steering angle = {}'.format(np.std(df['angle'])))"
   ]
  },
  {
   "cell_type": "markdown",
   "metadata": {},
   "source": [
    "* Graph distribution of steering angles"
   ]
  },
  {
   "cell_type": "code",
   "execution_count": 4,
   "metadata": {},
   "outputs": [
    {
     "data": {
      "text/plain": [
       "Text(0,0.5,'Number of samples')"
      ]
     },
     "execution_count": 4,
     "metadata": {},
     "output_type": "execute_result"
    },
    {
     "data": {
      "image/png": "[encoded data removed]",
      "text/plain": [
       "<Figure size 432x288 with 1 Axes>"
      ]
     },
     "metadata": {
      "needs_background": "light"
     },
     "output_type": "display_data"
    }
   ],
   "source": [
    "plt.hist(df['angle'], color = 'blue', edgecolor = 'black',\n",
    "         bins = int((360*2)))\n",
    "plt.title('Histogram of steering angles')\n",
    "plt.xlabel('Angle (degrees)')\n",
    "plt.ylabel('Number of samples')"
   ]
  },
  {
   "cell_type": "code",
   "execution_count": 5,
   "metadata": {},
   "outputs": [
    {
     "name": "stdout",
     "output_type": "stream",
     "text": [
      "Percentage of samples between -0 and +0 degrees = 3.9%\n",
      "Percentage of samples between -1 and +1 degrees = 10.43%\n",
      "Percentage of samples between -2 and +2 degrees = 11.17%\n",
      "Percentage of samples between -3 and +3 degrees = 8.45%\n",
      "Percentage of samples between -4 and +4 degrees = 6.72%\n",
      "Percentage of samples between -5 and +5 degrees = 8.21%\n",
      "Percentage of samples between -6 and +6 degrees = 4.93%\n",
      "Percentage of samples between -7 and +7 degrees = 2.97%\n",
      "Percentage of samples between -8 and +8 degrees = 3.64%\n",
      "Percentage of samples between -9 and +9 degrees = 2.73%\n",
      "Percentage of samples between -10 and +10 degrees = 4.03%\n",
      "Percentage of samples between -11 and +11 degrees = 2.41%\n",
      "Percentage of samples between -12 and +12 degrees = 2.72%\n",
      "Percentage of samples between -13 and +13 degrees = 2.15%\n",
      "Percentage of samples between -14 and +14 degrees = 1.7%\n",
      "Percentage of samples between -15 and +15 degrees = 1.78%\n",
      "Percentage of samples between -16 and +16 degrees = 1.94%\n",
      "Percentage of samples between -17 and +17 degrees = 1.94%\n",
      "Percentage of samples between -18 and +18 degrees = 1.36%\n",
      "Percentage of samples between -19 and +19 degrees = 1.05%\n",
      "Percentage of samples between -20 and +20 degrees = 0.69%\n",
      "Percentage of samples between -21 and +21 degrees = 0.65%\n",
      "Percentage of samples between -22 and +22 degrees = 0.53%\n",
      "Percentage of samples between -23 and +23 degrees = 0.59%\n",
      "Percentage of samples between -24 and +24 degrees = 0.51%\n"
     ]
    }
   ],
   "source": [
    "prev_pc = 0 \n",
    "for angle in range(25):\n",
    "    pc = (len(df[(df['angle'] <= angle) & (df['angle'] >= -angle)]) / len(df) * 100) - prev_pc\n",
    "    print('Percentage of samples between -{} and +{} degrees = {}%'.format(angle, angle, round(pc,2)))\n",
    "    prev_pc += pc"
   ]
  },
  {
   "cell_type": "markdown",
   "metadata": {},
   "source": [
    "* Graph this subset of data"
   ]
  },
  {
   "cell_type": "code",
   "execution_count": 6,
   "metadata": {},
   "outputs": [
    {
     "data": {
      "text/plain": [
       "Text(0,0.5,'Number of samples')"
      ]
     },
     "execution_count": 6,
     "metadata": {},
     "output_type": "execute_result"
    },
    {
     "data": {
      "image/png": "[encoded data removed]",
      "text/plain": [
       "<Figure size 432x288 with 1 Axes>"
      ]
     },
     "metadata": {
      "needs_background": "light"
     },
     "output_type": "display_data"
    }
   ],
   "source": [
    "angle = 25\n",
    "plt.hist(df[(df['angle'] <= angle) & (df['angle'] >= -angle)]['angle'], \n",
    "         color = 'blue', edgecolor = 'black',\n",
    "         bins = int((angle*2)))\n",
    "plt.title('Histogram of steering angles')\n",
    "plt.xlabel('Angle (degrees)')\n",
    "plt.ylabel('Number of samples')"
   ]
  },
  {
   "cell_type": "markdown",
   "metadata": {},
   "source": [
    "* Resample the data to minimise the bias around 0 degrees"
   ]
  },
  {
   "cell_type": "code",
   "execution_count": 8,
   "metadata": {},
   "outputs": [],
   "source": [
    "from random import random\n",
    "resample_level = 0.8\n",
    "df_resampled = pd.DataFrame(columns=columns)\n",
    "for i, row in df.iterrows():\n",
    "    r = random()\n",
    "    if r > resample_level and abs(row['angle']) < 5:\n",
    "        continue\n",
    "    df_resampled = df_resampled.append(row)"
   ]
  },
  {
   "cell_type": "code",
   "execution_count": 9,
   "metadata": {},
   "outputs": [
    {
     "data": {
      "text/plain": [
       "(57475, 4)"
      ]
     },
     "execution_count": 9,
     "metadata": {},
     "output_type": "execute_result"
    }
   ],
   "source": [
    "df_resampled.shape"
   ]
  },
  {
   "cell_type": "code",
   "execution_count": 10,
   "metadata": {},
   "outputs": [
    {
     "data": {
      "text/plain": [
       "Text(0,0.5,'Number of samples')"
      ]
     },
     "execution_count": 10,
     "metadata": {},
     "output_type": "execute_result"
    },
    {
     "data": {
      "image/png": "[encoded data removed]",
      "text/plain": [
       "<Figure size 432x288 with 1 Axes>"
      ]
     },
     "metadata": {
      "needs_background": "light"
     },
     "output_type": "display_data"
    }
   ],
   "source": [
    "angle = 25\n",
    "plt.hist(df_resampled[(df_resampled['angle'] <= angle) & (df_resampled['angle'] >= -angle)]['angle'], \n",
    "         color = 'blue', edgecolor = 'black',\n",
    "         bins = int((angle*2)))\n",
    "plt.title('Histogram of steering angles')\n",
    "plt.xlabel('Angle (degrees)')\n",
    "plt.ylabel('Number of samples')"
   ]
  },
  {
   "cell_type": "code",
   "execution_count": 11,
   "metadata": {},
   "outputs": [],
   "source": [
    "df_resampled.to_csv('../data/resampled.csv', sep=' ', index=False, header=False)"
   ]
  },
  {
   "cell_type": "markdown",
   "metadata": {},
   "source": [
    "### Preview the data"
   ]
  },
  {
   "cell_type": "code",
   "execution_count": 9,
   "metadata": {},
   "outputs": [
    {
     "data": {
      "text/plain": [
       "-1"
      ]
     },
     "execution_count": 9,
     "metadata": {},
     "output_type": "execute_result"
    }
   ],
   "source": [
    "cv2.startWindowThread()\n",
    "num_frames = len(df)\n",
    "for i, sample in df.iterrows():\n",
    "    file = os.path.join(data_dir, 'data', sample['image_name'])\n",
    "    image = cv2.imread(file)\n",
    "    timestamp = '{}/{} : Frame {}/{}'.format(sample['date'], sample['time'], i, num_frames)\n",
    "    angle = 'Angle: {}'.format(round(sample['angle'], 1))\n",
    "    cv2.putText(image, timestamp, (10, 20), cv2.FONT_HERSHEY_SIMPLEX, 0.3, (0, 0, 0),1 ,cv2.LINE_AA)\n",
    "    cv2.putText(image, angle, (10, 50), cv2.FONT_HERSHEY_SIMPLEX, 0.5, (0, 0, 0),1 ,cv2.LINE_AA)\n",
    "    cv2.imshow('Steering Angle',image)\n",
    "    k = cv2.waitKey(5) & 0xFF\n",
    "    # bailout on 'esc'\n",
    "    if k == 27:\n",
    "        break\n",
    "        \n",
    "cv2.destroyAllWindows()\n",
    "cv2.waitKey(1)"
   ]
  },
  {
   "cell_type": "code",
   "execution_count": null,
   "metadata": {
    "collapsed": true
   },
   "outputs": [],
   "source": []
  }
 ],
 "metadata": {
  "kernelspec": {
   "display_name": "Python 3",
   "language": "python",
   "name": "python3"
  },
  "language_info": {
   "codemirror_mode": {
    "name": "ipython",
    "version": 3
   },
   "file_extension": ".py",
   "mimetype": "text/x-python",
   "name": "python",
   "nbconvert_exporter": "python",
   "pygments_lexer": "ipython3",
   "version": "3.7.0"
  }
 },
 "nbformat": 4,
 "nbformat_minor": 2
}
