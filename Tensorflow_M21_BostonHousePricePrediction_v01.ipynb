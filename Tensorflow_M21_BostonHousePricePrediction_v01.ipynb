{
  "nbformat": 4,
  "nbformat_minor": 0,
  "metadata": {
    "colab": {
      "name": "Tensorflow_M21_BostonHousePricePrediction_v01.ipynb",
      "provenance": [],
      "authorship_tag": "ABX9TyNyH8QDHlrlqjqxvRT8vese",
      "include_colab_link": true
    },
    "kernelspec": {
      "name": "python3",
      "display_name": "Python 3"
    },
    "language_info": {
      "name": "python"
    }
  },
  "cells": [
    {
      "cell_type": "markdown",
      "metadata": {
        "id": "view-in-github",
        "colab_type": "text"
      },
      "source": [
        "<a href=\"https://colab.research.google.com/github/markstrefford/1.-Learning-Python-AI-by-Example/blob/master/Tensorflow_M21_BostonHousePricePrediction_v01.ipynb\" target=\"_parent\"><img src=\"https://colab.research.google.com/assets/colab-badge.svg\" alt=\"Open In Colab\"/></a>"
      ]
    },
    {
      "cell_type": "markdown",
      "source": [
        "Import Tensorflow libraries"
      ],
      "metadata": {
        "id": "kF-EAk_417Ge"
      }
    },
    {
      "cell_type": "code",
      "execution_count": 1,
      "metadata": {
        "id": "KbXduNNw1Ozt"
      },
      "outputs": [],
      "source": [
        "import tensorflow as tf\n",
        "from tensorflow import keras\n",
        "from tensorflow.keras.layers import Conv2D, MaxPooling2D, Dropout, Flatten, Dense\n"
      ]
    },
    {
      "cell_type": "markdown",
      "source": [
        "Import data handling libraries"
      ],
      "metadata": {
        "id": "KFN6BGsy19hM"
      }
    },
    {
      "cell_type": "code",
      "source": [
        "import numpy as np\n",
        "import pandas as pd"
      ],
      "metadata": {
        "id": "FBBFr2CS1skd"
      },
      "execution_count": 2,
      "outputs": []
    },
    {
      "cell_type": "markdown",
      "source": [
        "Import graphing libraries"
      ],
      "metadata": {
        "id": "eOidWaWr1-6A"
      }
    },
    {
      "cell_type": "code",
      "source": [
        "import matplotlib.pyplot as plt\n",
        "import seaborn as sns"
      ],
      "metadata": {
        "id": "hmCEEP_b1yFr"
      },
      "execution_count": 4,
      "outputs": []
    },
    {
      "cell_type": "markdown",
      "source": [
        "Load house price data"
      ],
      "metadata": {
        "id": "_zVLBhs72RU5"
      }
    },
    {
      "cell_type": "code",
      "source": [
        "(train_features, train_labels), (test_features, test_labels) = keras.datasets.boston_housing.load_data()"
      ],
      "metadata": {
        "colab": {
          "base_uri": "https://localhost:8080/"
        },
        "id": "FoSmYZCy133C",
        "outputId": "a3c762b3-0de1-4ca2-e684-7d2689fe1fce"
      },
      "execution_count": 6,
      "outputs": [
        {
          "output_type": "stream",
          "name": "stdout",
          "text": [
            "Downloading data from https://storage.googleapis.com/tensorflow/tf-keras-datasets/boston_housing.npz\n",
            "57344/57026 [==============================] - 0s 0us/step\n",
            "65536/57026 [==================================] - 0s 0us/step\n"
          ]
        }
      ]
    },
    {
      "cell_type": "markdown",
      "source": [
        "Let's explore the shape of the data\n",
        "\n",
        "We can see that:\n",
        "1. There is a 80/20 split between training and test data\n",
        "1. Each row has 13 features\n"
      ],
      "metadata": {
        "id": "BCUxg80X2ffI"
      }
    },
    {
      "cell_type": "code",
      "source": [
        "train_features.shape, train_labels.shape, test_features.shape, test_labels.shape"
      ],
      "metadata": {
        "colab": {
          "base_uri": "https://localhost:8080/"
        },
        "id": "cCyeFbwB2OTa",
        "outputId": "ce67dbfb-f014-4972-a7d0-53e3b80ec927"
      },
      "execution_count": 8,
      "outputs": [
        {
          "output_type": "execute_result",
          "data": {
            "text/plain": [
              "((404, 13), (404,), (102, 13), (102,))"
            ]
          },
          "metadata": {},
          "execution_count": 8
        }
      ]
    },
    {
      "cell_type": "markdown",
      "source": [
        "The features are:\n",
        "\n",
        " 1. CRIM     per capita crime rate by town\n",
        " 1. ZN       proportion of residential land zoned for lots over 25,000 sq.ft.\n",
        " 1. INDUS    proportion of non-retail business acres per town\n",
        " 1. CHAS     Charles River dummy variable (= 1 if tract bounds river; 0 otherwise)\n",
        " 1. NOX      nitric oxides concentration (parts per 10 million)\n",
        " 1. RM       average number of rooms per dwelling\n",
        " 1. AGE      proportion of owner-occupied units built prior to 1940\n",
        " 1. DIS      weighted distances to five Boston employment centres\n",
        " 1. RAD      index of accessibility to radial highways\n",
        " 1. TAX      full-value property-tax rate per \\$10,000\n",
        " 1. PTRATIO  pupil-teacher ratio by town\n",
        " 1. B        1000(Bk - 0.63)^2 where Bk is the proportion of blacks by town\n",
        " 1. LSTAT    % lower status of the population\n",
        " 1. MEDV     Median value of owner-occupied homes in \\$1000's\n",
        "\n",
        "\n"
      ],
      "metadata": {
        "id": "ijTtb_ZW2ylO"
      }
    },
    {
      "cell_type": "code",
      "source": [
        "train_features[0]"
      ],
      "metadata": {
        "colab": {
          "base_uri": "https://localhost:8080/"
        },
        "id": "8c8HBiXC2UeP",
        "outputId": "d70aec38-43a7-4c49-85b2-38be5b911fea"
      },
      "execution_count": 9,
      "outputs": [
        {
          "output_type": "execute_result",
          "data": {
            "text/plain": [
              "(array([  1.23247,   0.     ,   8.14   ,   0.     ,   0.538  ,   6.142  ,\n",
              "         91.7    ,   3.9769 ,   4.     , 307.     ,  21.     , 396.9    ,\n",
              "         18.72   ]), 15.2)"
            ]
          },
          "metadata": {},
          "execution_count": 9
        }
      ]
    },
    {
      "cell_type": "markdown",
      "source": [
        "We can validate this by looking for the maximum value in each column of the data"
      ],
      "metadata": {
        "id": "Z2EHY46H4OZE"
      }
    },
    {
      "cell_type": "code",
      "source": [
        "np.amax(train_features, axis=0)"
      ],
      "metadata": {
        "colab": {
          "base_uri": "https://localhost:8080/"
        },
        "id": "uHj5JFVa22Xa",
        "outputId": "0dc3d50d-64f1-4c0b-d8fe-231b8f9af1c4"
      },
      "execution_count": 15,
      "outputs": [
        {
          "output_type": "execute_result",
          "data": {
            "text/plain": [
              "array([ 88.9762, 100.    ,  27.74  ,   1.    ,   0.871 ,   8.725 ,\n",
              "       100.    ,  10.7103,  24.    , 711.    ,  22.    , 396.9   ,\n",
              "        37.97  ])"
            ]
          },
          "metadata": {},
          "execution_count": 15
        }
      ]
    },
    {
      "cell_type": "markdown",
      "source": [
        "And also lets check the minimum, again we see a range of minimum values"
      ],
      "metadata": {
        "id": "4FCcHOwW4V8l"
      }
    },
    {
      "cell_type": "code",
      "source": [
        "np.amin(train_features, axis=0)"
      ],
      "metadata": {
        "colab": {
          "base_uri": "https://localhost:8080/"
        },
        "id": "QpPzJCrV3Aax",
        "outputId": "2ce4543b-a286-4290-c396-a6fc7ed59801"
      },
      "execution_count": 16,
      "outputs": [
        {
          "output_type": "execute_result",
          "data": {
            "text/plain": [
              "array([6.3200e-03, 0.0000e+00, 4.6000e-01, 0.0000e+00, 3.8500e-01,\n",
              "       3.5610e+00, 2.9000e+00, 1.1296e+00, 1.0000e+00, 1.8800e+02,\n",
              "       1.2600e+01, 3.2000e-01, 1.7300e+00])"
            ]
          },
          "metadata": {},
          "execution_count": 16
        }
      ]
    },
    {
      "cell_type": "markdown",
      "source": [
        "To facilitate better training, let's normalise the data"
      ],
      "metadata": {
        "id": "d0TzEfDz4qKR"
      }
    },
    {
      "cell_type": "code",
      "source": [
        "train_mean = np.mean(train_features, axis=0)\n",
        "train_std = np.std(train_features, axis=0)\n",
        "train_features = (train_features - train_mean) / train_std"
      ],
      "metadata": {
        "id": "6e2UK98C4a3w"
      },
      "execution_count": 17,
      "outputs": []
    },
    {
      "cell_type": "code",
      "source": [
        "np.amax(train_features, axis=0)"
      ],
      "metadata": {
        "colab": {
          "base_uri": "https://localhost:8080/"
        },
        "id": "iZDWt4mT4u3C",
        "outputId": "d05274d3-b5e6-4f23-8a4d-bc65f0cf80e1"
      },
      "execution_count": 18,
      "outputs": [
        {
          "output_type": "execute_result",
          "data": {
            "text/plain": [
              "array([9.23484718, 3.72899018, 2.44537425, 3.89358447, 2.67733525,\n",
              "       3.46718635, 1.11048828, 3.43740568, 1.67588577, 1.83609694,\n",
              "       1.60353052, 0.44807713, 3.48201936])"
            ]
          },
          "metadata": {},
          "execution_count": 18
        }
      ]
    },
    {
      "cell_type": "code",
      "source": [
        "np.amin(train_features, axis=0)"
      ],
      "metadata": {
        "colab": {
          "base_uri": "https://localhost:8080/"
        },
        "id": "kQHlz0r14yQr",
        "outputId": "04169685-281d-4af2-ef7b-0ad136bde2b2"
      },
      "execution_count": 19,
      "outputs": [
        {
          "output_type": "execute_result",
          "data": {
            "text/plain": [
              "array([-0.40510053, -0.48361547, -1.56469648, -0.25683275, -1.47126853,\n",
              "       -3.81725032, -2.36904226, -1.28750316, -0.97156928, -1.31131055,\n",
              "       -2.67375227, -3.77110135, -1.51966384])"
            ]
          },
          "metadata": {},
          "execution_count": 19
        }
      ]
    },
    {
      "cell_type": "code",
      "source": [
        ""
      ],
      "metadata": {
        "id": "MkzIGtw441xl"
      },
      "execution_count": null,
      "outputs": []
    }
  ]
}